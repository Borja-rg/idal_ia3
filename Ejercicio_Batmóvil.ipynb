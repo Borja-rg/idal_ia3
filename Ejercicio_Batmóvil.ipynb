{
  "nbformat": 4,
  "nbformat_minor": 0,
  "metadata": {
    "colab": {
      "name": "Ejercicio Batmóvil.ipynb",
      "provenance": [],
      "collapsed_sections": [],
      "include_colab_link": true
    },
    "kernelspec": {
      "name": "python3",
      "display_name": "Python 3"
    }
  },
  "cells": [
    {
      "cell_type": "markdown",
      "metadata": {
        "id": "view-in-github",
        "colab_type": "text"
      },
      "source": [
        "<a href=\"https://colab.research.google.com/github/Borja-rg/idal_ia3/blob/main/Ejercicio_Batm%C3%B3vil.ipynb\" target=\"_parent\"><img src=\"https://colab.research.google.com/assets/colab-badge.svg\" alt=\"Open In Colab\"/></a>"
      ]
    },
    {
      "cell_type": "markdown",
      "metadata": {
        "id": "z0cyQ1vfkzzt"
      },
      "source": [
        "Hi Guys Cristopher Nolan is here. Don't talk about this, but I am making a new Batman movie and I need your help to design the new Batmobile. For this ocassion I would like you to design it as several Python Classes.\n",
        "\n",
        "Design the main Batmobile class with the following attributes: Pilot (It could be Batman or Robin), number of batrockets loaded, number of pem (this are electromagnetic pulses to counter the Joker weapons) uses left, liters of gas left in the batmobile.\n",
        "\n",
        "Add the following methods to the Batmobile class: A method to accelerate the batmobile and drive for some distance, a method to activate the turbo and drive for some distance faster than the normal method, a method to launch a rocket to a Joker colleague, a method to launch a pem use.\n",
        "\n",
        "Create the following classes to interact with the Batmobile: Joker, Joker Villain, Rocket, PEM Pulse.\n",
        "\n",
        "The Joker and Jokker Villain class should have a parameter called KO which will turn to True when they receive a Rocket. They also have a parameter called Weapon which should turn to false if they receive a PEM Pulse.\n",
        "\n",
        "The Rocket and PEM Pulse are the ammunition of the Batmobile, the car can only use the weapons if it has ammunition in the arsenal. Si se quedan sin munición\n",
        "\n",
        "Finally draw a diagram of the classes using diagram.io showing how they interact.\n",
        "\n",
        "Se propone la siguiente distribución de la carga de trabajo:\n",
        "\n",
        "Un estudiante podría diseñar la clase del batmóvil. Mientras sus dos compañeros podrían desarrollar las clases relacionadas con el armamento del mismo y los distintos villanos descritos.\n",
        "Una vez desarrolladas las piezas de código por separado se procedería a la integración en equipo de todo el sistema.\n",
        "Uno de los estudiantes (aquel con menor carga en programación) desarrollaría el diagrama de la pieza de software."
      ]
    },
    {
      "cell_type": "code",
      "metadata": {
        "id": "dM-zMbUdj0vG"
      },
      "source": [
        "# Clases Rocket, PEM_Pulse\n",
        "# isinstance\n",
        "\n",
        "class Rocket:\n",
        "  def __init__(self, ammunition):\n",
        "    self.ammunition = ammunition\n",
        "\n",
        "  def shoot(self,objective):\n",
        "    if self.ammunition==0:\n",
        "      print('Alert: Run out of batrocket ammo.')\n",
        "    else:\n",
        "      self.ammunition -= 1\n",
        "      objective.KO = True\n",
        "      print(f'Remaining rocket ammo: {self.n_rock}.')\n",
        "\n",
        "\n",
        "class PEM_Pulse:\n",
        "  def __init__(self, ammunition):\n",
        "    self.ammunition = ammunition\n",
        "  \n",
        "  def shoot(self,objective):\n",
        "    if self.ammunition==0:\n",
        "      print('Alert: Run out of PEM pulses.')\n",
        "    else:\n",
        "      self.ammunition -= 1\n",
        "      objective.KO = True\n",
        "      print(f'Remaining PEM pulses: {self.ammunition}.')\n",
        "\n",
        "\n",
        "class Joker:\n",
        "  def __init__(self):\n",
        "    self.KO = False\n",
        "    self.Weapon = True\n",
        "\n",
        "\n",
        "class Joker_Villain:\n",
        "  def __init__(self):\n",
        "    self.KO = False\n",
        "    self.Weapon = True\n",
        "\n",
        "\n",
        "class Pilot:\n",
        "  def __init__(self, pilot):\n",
        "    self.pilot=pilot\n",
        "\n",
        "  def describe_pilot(self):\n",
        "    print('Hi Alfred, please confirm who is driving the Batmovil.')\n",
        "    print(f'Ok, the pilot is {self.pilot}')\n",
        "\n",
        "\n",
        "class Tank:\n",
        "  def __init__(self,balance=0):\n",
        "    self.balance = balance\n",
        "\n",
        "  def _gas_consume(self, amount):\n",
        "    self.balance -= amount\n",
        "\n",
        "  def refueling(self, amount):\n",
        "    self.balance += amount\n",
        "\n",
        "  def gas_describe(self):\n",
        "    print(f'Alfred, we only have {self.balance} liters of gasoline left. Please tell me how long I have to get to the Batcave.')\n",
        "\n",
        "    \n",
        "class Batmobile:\n",
        "  def __init__(self, pilot=Pilot('Batman'), rocket=Rocket(10), pem=PEM_Pulse(4), tank=Tank(100)):\n",
        "    self.pilot = pilot\n",
        "    self.rocket = rocket\n",
        "    self.pem = pem\n",
        "    self.tank = tank\n",
        "\n",
        "    # Initialitation\n",
        "    self.velocity = 0\n",
        "    self.orientation = [0]\n",
        "    self.distance = [0]\n",
        "\n",
        "    # Car Specs\n",
        "    self.turbo_secs = 20\n",
        "    self.vel_limit = 55 #In m/s -> Around 200 km/h\n",
        "    self.consumption = 6e-4 #In L/m -> Around 60 L/100km\n",
        "\n",
        "  # Movement-related methods: _gas_consume, drive (straight), turn (change of orientation), accelerate, turbo, describe_traj\n",
        "\n",
        "  def accelerate(self, a, t):\n",
        "    new_vel = self.velocity+a*t\n",
        "    if new_vel>self.vel_limit:\n",
        "      t = (self.vel_limit-self.velocity)/a\n",
        "      new_vel = self.vel_limit\n",
        "      print('Alert: Speed limit reached.')\n",
        "    self.drive(t,a)\n",
        "    self.velocity = new_vel\n",
        "\n",
        "  def _gas_consume(self, metres):\n",
        "    cons = metres*self.consumption\n",
        "    if cons>self.tank.balance:\n",
        "      cons = self.vel_limit\n",
        "      print('Alert: Run out of gas.')\n",
        "      self.accelerate(-2,self.velocity/2) \n",
        "    self.tank._gas_consume(cons)\n",
        "    print(f'Remaining gas: {self.tank.balance} L.')\n",
        "    return cons/self.consumption\n",
        "  \n",
        "  def drive(self, t, a=0):\n",
        "    dist = self.velocity*t+a*t**2\n",
        "    dist = self._gas_consume(dist)\n",
        "    self.distance.append(dist)\n",
        "    self.orientation.append(self.orientation[-1])\n",
        "  \n",
        "  def turn(self, degree):\n",
        "    new_or = self.orientation[-1]+degree%360\n",
        "    self.orientation.append(new_or)\n",
        "    self.distance.append(0)\n",
        "\n",
        "  def turbo(self, seconds):\n",
        "    if self.turbo_secs==0:\n",
        "      print('Alert: Run out of turbo.')\n",
        "    else:\n",
        "      if self.turbo_secs<seconds:\n",
        "        seconds=self.turbo_secs\n",
        "      self.turbo_secs -= seconds\n",
        "      self.velocity *= 2\n",
        "      self.drive(seconds)\n",
        "      vel = self.velocity*2.23694\n",
        "      print(f'Alfred, the Batmobile is going to freak out! When I put the Nitro, it catches {round(vel)} miles per hour!')\n",
        "      self.velocity /= 2\n",
        "      print(f'Remaining turbo activation time: {self.turbo_secs} s.')\n",
        "\n",
        "  def describe_traj(self):\n",
        "    print(f'The vector of traveled distance is: {self.distance}.')\n",
        "    print(f'The vector of orientation is: {self.orientation}.')\n",
        "\n",
        "  # Weapon-related methods: launch_rocket and launch_pem\n",
        "\n",
        "  def launch_rocket(self, objective):\n",
        "    self.rocket.shoot(objective)\n",
        "\n",
        "  def launch_pem(self, objective):\n",
        "    self.pem.shoot(objective)\n"
      ],
      "execution_count": null,
      "outputs": []
    },
    {
      "cell_type": "code",
      "metadata": {
        "id": "7fsPEl0FlWu_"
      },
      "source": [
        "coche = Batmobile()"
      ],
      "execution_count": null,
      "outputs": []
    },
    {
      "cell_type": "code",
      "metadata": {
        "id": "1HV3rKy_tDOD",
        "outputId": "b9f92125-ec37-4c2e-87b5-5da0776a7fc0",
        "colab": {
          "base_uri": "https://localhost:8080/"
        }
      },
      "source": [
        "coche.velocity=10\n",
        "coche.tank.balance"
      ],
      "execution_count": null,
      "outputs": [
        {
          "output_type": "execute_result",
          "data": {
            "text/plain": [
              "100"
            ]
          },
          "metadata": {
            "tags": []
          },
          "execution_count": 55
        }
      ]
    },
    {
      "cell_type": "code",
      "metadata": {
        "id": "hRD4f3j4tb6S",
        "outputId": "e6427d61-087e-4b2d-a934-4caae61cbd2d",
        "colab": {
          "base_uri": "https://localhost:8080/"
        }
      },
      "source": [
        "coche.velocity=55\n",
        "coche.turbo(3)"
      ],
      "execution_count": null,
      "outputs": [
        {
          "output_type": "stream",
          "text": [
            "Remaining gas: 99.802 L.\n",
            "Alfred, the Batmobile is going to freak out! When I put the Nitro, it catches 246 miles per hour!\n",
            "Remaining turbo activation time: 17 s.\n"
          ],
          "name": "stdout"
        }
      ]
    },
    {
      "cell_type": "code",
      "metadata": {
        "id": "5ZUhQ16qwHym"
      },
      "source": [
        ""
      ],
      "execution_count": null,
      "outputs": []
    }
  ]
}