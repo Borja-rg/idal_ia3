{
  "nbformat": 4,
  "nbformat_minor": 0,
  "metadata": {
    "colab": {
      "name": "Smoke classification (Attempts).ipynb",
      "provenance": [],
      "collapsed_sections": [],
      "toc_visible": true,
      "include_colab_link": true
    },
    "kernelspec": {
      "name": "python3",
      "display_name": "Python 3"
    },
    "accelerator": "GPU"
  },
  "cells": [
    {
      "cell_type": "markdown",
      "metadata": {
        "id": "view-in-github",
        "colab_type": "text"
      },
      "source": [
        "<a href=\"https://colab.research.google.com/github/Borja-rg/idal_ia3/blob/main/Smoke_classification_(Attempts).ipynb\" target=\"_parent\"><img src=\"https://colab.research.google.com/assets/colab-badge.svg\" alt=\"Open In Colab\"/></a>"
      ]
    },
    {
      "cell_type": "markdown",
      "metadata": {
        "id": "eTwIOYLHxuhP"
      },
      "source": [
        "<img src = \"https://static.casadomo.com/media/2020/02/lonmark-espana-universidad-valencia-jornada-automatizacion.png\" align=\"right\" style=\"float\" width=\"300\">\r\n",
        "\r\n",
        "\r\n",
        "# **WILDFIRE SMOKE CLASSIFICATION**\r\n",
        "##**(Attempts with Full Images)**\r\n",
        "\r\n",
        "### Borja Ramón Gómez "
      ]
    },
    {
      "cell_type": "markdown",
      "metadata": {
        "id": "Z-kVFdy8zg9N"
      },
      "source": [
        "En este notebook se ha intentado analizar fotografías completas de bosques con humo causado por un incendio, provenientes del Wildfire Smoke Dataset. El objetivo es diseñar una CNN capaz de clasificar las imágenes en función de si tienen humo o no. A continuación constan los distintos pasos e intentos realizadas:\r\n",
        "\r\n",
        "1.   Importación y preparación de los datos de entrenamiento, validación y testeo.\r\n",
        "2.   Intento I: Diseño de una CNN propia.\r\n",
        "3.   Intento II: Transfer Learning (EfficientNet)\r\n",
        "\r\n"
      ]
    },
    {
      "cell_type": "code",
      "metadata": {
        "id": "EQ-ePeWXxvo2"
      },
      "source": [
        "import seaborn as sns\r\n",
        "import tensorflow.keras as keras\r\n",
        "import tensorflow as tf\r\n",
        "from sklearn.model_selection import train_test_split\r\n",
        "import pandas as pd\r\n",
        "from tensorflow.keras import backend as K\r\n",
        "import numpy as np\r\n",
        "from keras.preprocessing.image import ImageDataGenerator, load_img, img_to_array\r\n",
        "from keras.models import Sequential, load_model, Model\r\n",
        "from keras.layers import Conv2D, MaxPooling2D, BatchNormalization\r\n",
        "from keras.layers import Activation, Dropout, Flatten, Dense, GlobalAveragePooling2D\r\n",
        "from keras import backend as K\r\n",
        "from keras.callbacks import ModelCheckpoint\r\n",
        "from keras import regularizers\r\n",
        "from keras import optimizers\r\n",
        "from keras import models\r\n",
        "from glob import glob\r\n",
        "import cv2\r\n",
        "\r\n",
        "import matplotlib.pyplot as plt\r\n",
        "import pandas as pd\r\n",
        "import numpy as np\r\n",
        "import random\r\n",
        "\r\n",
        "from IPython.display import SVG, display, clear_output\r\n",
        "from keras.utils.vis_utils import model_to_dot\r\n",
        "\r\n",
        "from sklearn.metrics import classification_report, confusion_matrix, roc_curve, auc\r\n",
        "\r\n",
        "%matplotlib inline"
      ],
      "execution_count": 1,
      "outputs": []
    },
    {
      "cell_type": "code",
      "metadata": {
        "colab": {
          "base_uri": "https://localhost:8080/"
        },
        "id": "rWLzvmbFFHfx",
        "outputId": "5a6d8059-5913-47fd-ac35-4d27ba99d3c1"
      },
      "source": [
        "from google.colab import drive\n",
        "drive.mount('/content/drive')"
      ],
      "execution_count": null,
      "outputs": [
        {
          "output_type": "stream",
          "text": [
            "Mounted at /content/drive\n"
          ],
          "name": "stdout"
        }
      ]
    },
    {
      "cell_type": "markdown",
      "metadata": {
        "id": "cC-wwKTJ3Cxt"
      },
      "source": [
        "## **1. Importación y Preparación de Datos**"
      ]
    },
    {
      "cell_type": "markdown",
      "metadata": {
        "id": "Zq6pknfQ3Ktf"
      },
      "source": [
        "A continuación se importan las imágenes utilizadas. 1336 imágenes divididas casi equitativamente entre la clase Humo y No Humo, son repartidas entre los conjuntos de entrenamiento, validación y testeo con unos ratios de 70%, 20% y 10% respectivamente."
      ]
    },
    {
      "cell_type": "code",
      "metadata": {
        "id": "_q3BzMAJQheu"
      },
      "source": [
        "!unzip drive/MyDrive/SMOKE/challenge1.zip"
      ],
      "execution_count": null,
      "outputs": []
    },
    {
      "cell_type": "code",
      "metadata": {
        "id": "HasbX5YKXdaQ"
      },
      "source": [
        "smoke = glob('challenge1/smoke/*jpg')\r\n",
        "no_smoke = glob('challenge1/no_smoke/*jpg')\r\n",
        "random.shuffle(smoke)\r\n",
        "random.shuffle(no_smoke)\r\n",
        "train_ratio = 0.7\r\n",
        "val_ratio = 0.2\r\n",
        "\r\n",
        "num_smoke = len(smoke)\r\n",
        "num_nosmoke = len(no_smoke)\r\n",
        "\r\n",
        "train_smoke = smoke[:round(train_ratio*num_smoke)]\r\n",
        "train_nosmoke = no_smoke[:round(train_ratio*num_nosmoke)]\r\n",
        "\r\n",
        "val_smoke = smoke[round(train_ratio*num_smoke):round((train_ratio+val_ratio)*num_smoke)]\r\n",
        "val_nosmoke = no_smoke[round(train_ratio*num_nosmoke):round((train_ratio+val_ratio)*num_nosmoke)]\r\n",
        "\r\n",
        "test_smoke = smoke[round((train_ratio+val_ratio)*num_smoke):]\r\n",
        "test_nosmoke = no_smoke[round((train_ratio+val_ratio)*num_nosmoke):]\r\n",
        "\r\n",
        "train_X = train_smoke + train_nosmoke\r\n",
        "train_y = len(train_smoke) * ['Smoke'] + len(train_nosmoke)*['No smoke']\r\n",
        "\r\n",
        "val_X = val_smoke + val_nosmoke\r\n",
        "val_y = len(val_smoke) * ['Smoke'] + len(val_nosmoke)*['No smoke']\r\n",
        "\r\n",
        "test_X = test_smoke + test_nosmoke\r\n",
        "test_y = len(test_smoke) * ['Smoke'] + len(test_nosmoke)*['No smoke']\r\n",
        "\r\n",
        "df_train = pd.DataFrame(columns=['filepath','class'])\r\n",
        "df_train['filepath'] = train_X\r\n",
        "df_train['class'] = train_y\r\n",
        "\r\n",
        "df_val = pd.DataFrame(columns=['filepath','class'])\r\n",
        "df_val['filepath'] = val_X\r\n",
        "df_val['class'] = val_y\r\n",
        "\r\n",
        "df_test = pd.DataFrame(columns=['filepath','class'])\r\n",
        "df_test['filepath'] = test_X\r\n",
        "df_test['class'] = test_y"
      ],
      "execution_count": null,
      "outputs": []
    },
    {
      "cell_type": "code",
      "metadata": {
        "colab": {
          "base_uri": "https://localhost:8080/"
        },
        "id": "g7Qvyln3a7Fn",
        "outputId": "ac03597e-0674-45eb-9e0c-06291cb989fe"
      },
      "source": [
        "tot = len(smoke)+len(no_smoke)\r\n",
        "print(f'Number of total images: \\nSmoke = {len(smoke)} ({round(len(smoke)/tot*100,2)} %)\\nNo smoke = {len(no_smoke)} ({round(len(no_smoke)/tot*100,2)} %)')\r\n",
        "print(f'Ratios: Train 70%, Validation 20%, Test 10%')"
      ],
      "execution_count": null,
      "outputs": [
        {
          "output_type": "stream",
          "text": [
            "Number of total images: \n",
            "Smoke = 713 (53.37 %)\n",
            "No smoke = 623 (46.63 %)\n",
            "Ratios: Train 70%, Validation 20%, Test 10%\n"
          ],
          "name": "stdout"
        }
      ]
    },
    {
      "cell_type": "markdown",
      "metadata": {
        "id": "YUBDDl6q5clH"
      },
      "source": [
        "Con el objetivo de no cargar todas las imágenes a memoria, se crea un generador para cada set de datos que introduce progresivamente los datos en batches. Se ha decidido realizar data augmentation para el conjunto de entrenamiento, dada la reducida cantidad de datos disponibles. Merece la pena mencionar que las imágenes son de una alta resolución, 1536 x 2048."
      ]
    },
    {
      "cell_type": "code",
      "metadata": {
        "id": "-i0aC0RKio_n"
      },
      "source": [
        "batch_size = 4\r\n",
        "\r\n",
        "train_gen = ImageDataGenerator(dtype='float32',\r\n",
        "                              preprocessing_function = lambda x:x/255,\r\n",
        "                              rotation_range=10,\r\n",
        "                              width_shift_range=0.1,\r\n",
        "                              height_shift_range=0.1,\r\n",
        "                              fill_mode='nearest',\r\n",
        "                              shear_range=0.1,\r\n",
        "                              zoom_range=0.2,\r\n",
        "                              horizontal_flip=True)\r\n",
        "\r\n",
        "val_gen  = ImageDataGenerator(dtype='float32', preprocessing_function = lambda x:x/255)\r\n",
        "\r\n",
        "test_gen = ImageDataGenerator(dtype='float32', preprocessing_function = lambda x:x/255)"
      ],
      "execution_count": null,
      "outputs": []
    },
    {
      "cell_type": "code",
      "metadata": {
        "colab": {
          "base_uri": "https://localhost:8080/"
        },
        "id": "3z82tL4S5n5E",
        "outputId": "5358421b-be9c-41a0-811f-ddb6f02d6939"
      },
      "source": [
        "sizes = {}\r\n",
        "for i in range(len(train_nosmoke)):\r\n",
        "  im = train_nosmoke[i]\r\n",
        "  image = load_img(im)\r\n",
        "#  display(image)\r\n",
        "  size = np.array(image).shape\r\n",
        "  if size not in sizes:\r\n",
        "    sizes[size] = 1\r\n",
        "  else:\r\n",
        "    sizes[size] += 1\r\n",
        "sizes"
      ],
      "execution_count": null,
      "outputs": [
        {
          "output_type": "execute_result",
          "data": {
            "text/plain": [
              "{(1536, 2048, 3): 240, (2048, 3072, 3): 196}"
            ]
          },
          "metadata": {
            "tags": []
          },
          "execution_count": 36
        }
      ]
    },
    {
      "cell_type": "code",
      "metadata": {
        "id": "Low6cmp7HOLZ"
      },
      "source": [
        "target_size = (1536, 2048)\r\n",
        "input_shape = (1536, 2048, 3)"
      ],
      "execution_count": 3,
      "outputs": []
    },
    {
      "cell_type": "code",
      "metadata": {
        "colab": {
          "base_uri": "https://localhost:8080/"
        },
        "id": "264PqOzWmI1I",
        "outputId": "e03b6a6e-7a1c-45ad-98ac-8ead8e8fe526"
      },
      "source": [
        "train_generator = train_gen.flow_from_dataframe(\r\n",
        "    dataframe=df_train,\r\n",
        "    x_col = \"filepath\",\r\n",
        "    y_col = \"class\",\r\n",
        "    target_size = target_size,\r\n",
        "    batch_size=batch_size,\r\n",
        "    shuffle=True,\r\n",
        "    class_mode='sparse')\r\n",
        "\r\n",
        "val_generator = val_gen.flow_from_dataframe(\r\n",
        "    dataframe=df_val,\r\n",
        "    x_col = \"filepath\",\r\n",
        "    y_col = \"class\",\r\n",
        "    target_size = target_size,\r\n",
        "    batch_size=batch_size,\r\n",
        "    shuffle=False,\r\n",
        "    class_mode='sparse')\r\n",
        "\r\n",
        "test_generator = test_gen.flow_from_dataframe(\r\n",
        "    dataframe=df_test,\r\n",
        "    x_col = \"filepath\",\r\n",
        "    y_col = \"class\",\r\n",
        "    target_size = target_size,\r\n",
        "    batch_size=batch_size,\r\n",
        "    shuffle=False,\r\n",
        "    class_mode='sparse')"
      ],
      "execution_count": null,
      "outputs": [
        {
          "output_type": "stream",
          "text": [
            "Found 935 validated image filenames belonging to 2 classes.\n",
            "Found 268 validated image filenames belonging to 2 classes.\n",
            "Found 133 validated image filenames belonging to 2 classes.\n"
          ],
          "name": "stdout"
        }
      ]
    },
    {
      "cell_type": "markdown",
      "metadata": {
        "id": "OL_qhXjS9HRS"
      },
      "source": [
        "## 2. Diseño y Entrenamiento de CNN"
      ]
    },
    {
      "cell_type": "markdown",
      "metadata": {
        "id": "e5Csebf49Q0N"
      },
      "source": [
        "En esta sección se diseña una red convolucional y se obtiene su rendimiento."
      ]
    },
    {
      "cell_type": "code",
      "metadata": {
        "id": "E2PKuHF-ZDsb"
      },
      "source": [
        "dropout = 0.5\r\n",
        "regul = 'l2'\r\n",
        "optimizer = 'adam'\r\n",
        "\r\n",
        "model = Sequential()\r\n",
        "model.add(Conv2D(32, (3,3), activation='relu',input_shape=input_shape))\r\n",
        "model.add(Conv2D(32, (3,3), activation='relu'))\r\n",
        "model.add(MaxPooling2D((2,2)))\r\n",
        "model.add(Dropout(dropout))\r\n",
        "\r\n",
        "model.add(Conv2D(64, (3,3), activation='relu'))\r\n",
        "model.add(Conv2D(64, (3,3), activation='relu'))\r\n",
        "model.add(MaxPooling2D((2,2)))\r\n",
        "model.add(Dropout(dropout))\r\n",
        "\r\n",
        "model.add(Conv2D(128, (3,3), activation='relu'))\r\n",
        "model.add(MaxPooling2D((2,2)))\r\n",
        "\r\n",
        "model.add(Conv2D(128, (3,3), activation='relu'))\r\n",
        "model.add(MaxPooling2D((2,2)))\r\n",
        "\r\n",
        "model.add(Conv2D(256, (3,3), activation='relu'))\r\n",
        "model.add(MaxPooling2D((2,2)))\r\n",
        "\r\n",
        "model.add(GlobalAveragePooling2D())\r\n",
        "\r\n",
        "model.add(Dropout(dropout))\r\n",
        "model.add(Dense(128, activation='relu',kernel_regularizer = regul))\r\n",
        "model.add(Dropout(dropout))\r\n",
        "model.add(Dense(64, activation='relu',kernel_regularizer = regul))\r\n",
        "model.add(Dropout(dropout))\r\n",
        "model.add(Dense(16, activation='relu',kernel_regularizer = regul))\r\n",
        "model.add(Dropout(dropout))\r\n",
        "model.add(Dense(2))\r\n",
        "model.add(Activation('softmax')) \r\n",
        "model.compile(optimizer = optimizer, loss='sparse_categorical_crossentropy',metrics=['accuracy'])"
      ],
      "execution_count": 8,
      "outputs": []
    },
    {
      "cell_type": "code",
      "metadata": {
        "id": "APKBhG0EcUXB"
      },
      "source": [
        "model.summary()"
      ],
      "execution_count": null,
      "outputs": []
    },
    {
      "cell_type": "code",
      "metadata": {
        "id": "82SsbvHGHVrr"
      },
      "source": [
        "epochs = 5\r\n",
        "modelpath=\"best_model.h5\"\r\n",
        "callback = [ModelCheckpoint(modelpath, monitor='val_accuracy', verbose=1,\r\n",
        "                              save_best_only=True,\r\n",
        "                              mode='max')]"
      ],
      "execution_count": null,
      "outputs": []
    },
    {
      "cell_type": "code",
      "metadata": {
        "colab": {
          "base_uri": "https://localhost:8080/"
        },
        "id": "scC5EijFEf9q",
        "outputId": "1d3844df-646b-4e10-c628-ee01934fbf71"
      },
      "source": [
        "history = model.fit(train_generator,\r\n",
        "                    batch_size = batch_size,\r\n",
        "                    epochs = epochs,\r\n",
        "                    callbacks = callback,\r\n",
        "                    validation_data = val_generator\r\n",
        "                    )"
      ],
      "execution_count": null,
      "outputs": [
        {
          "output_type": "stream",
          "text": [
            "Epoch 1/5\n",
            "234/234 [==============================] - 855s 4s/step - loss: 1.3819 - accuracy: 0.4680 - val_loss: 0.7989 - val_accuracy: 0.5336\n",
            "\n",
            "Epoch 00001: val_accuracy improved from -inf to 0.53358, saving model to best_model.h5\n",
            "Epoch 2/5\n",
            "234/234 [==============================] - 830s 4s/step - loss: 0.7671 - accuracy: 0.5184 - val_loss: 0.7101 - val_accuracy: 0.5336\n",
            "\n",
            "Epoch 00002: val_accuracy did not improve from 0.53358\n",
            "Epoch 3/5\n",
            "234/234 [==============================] - 837s 4s/step - loss: 0.7054 - accuracy: 0.5296 - val_loss: 0.6957 - val_accuracy: 0.5336\n",
            "\n",
            "Epoch 00003: val_accuracy did not improve from 0.53358\n",
            "Epoch 4/5\n",
            "234/234 [==============================] - 839s 4s/step - loss: 0.6963 - accuracy: 0.5269 - val_loss: 0.6926 - val_accuracy: 0.5336\n",
            "\n",
            "Epoch 00004: val_accuracy did not improve from 0.53358\n",
            "Epoch 5/5\n",
            "234/234 [==============================] - 823s 4s/step - loss: 0.6925 - accuracy: 0.5326 - val_loss: 0.6916 - val_accuracy: 0.5336\n",
            "\n",
            "Epoch 00005: val_accuracy did not improve from 0.53358\n"
          ],
          "name": "stdout"
        }
      ]
    },
    {
      "cell_type": "code",
      "metadata": {
        "colab": {
          "base_uri": "https://localhost:8080/"
        },
        "id": "f696YsWOGUnY",
        "outputId": "8b3c9104-c35c-4740-8ad3-4731bfbac52b"
      },
      "source": [
        "scores_tr = model.evaluate(train_generator)\r\n",
        "print('Train loss    :', scores_tr[0])\r\n",
        "print('Train accuracy:', scores_tr[1])\r\n",
        "print()\r\n",
        "\r\n",
        "scores_val = model.evaluate(val_generator)\r\n",
        "print('Val loss    :', scores_val[0])\r\n",
        "print('Val accuracy:', scores_val[1])\r\n",
        "print()\r\n",
        "\r\n",
        "scores_te = model.evaluate(test_generator)\r\n",
        "print('Test loss     :', scores_te[0])\r\n",
        "print('Test accuracy :', scores_te[1])"
      ],
      "execution_count": null,
      "outputs": [
        {
          "output_type": "stream",
          "text": [
            "30/30 [==============================] - 59s 2s/step - loss: 0.7129 - accuracy: 0.5337\n",
            "Train loss    : 0.7129409313201904\n",
            "Train accuracy: 0.5336898565292358\n",
            "\n",
            "9/9 [==============================] - 14s 2s/step - loss: 0.7130 - accuracy: 0.5336\n",
            "Val loss    : 0.7129531502723694\n",
            "Val accuracy: 0.5335820913314819\n",
            "\n",
            "5/5 [==============================] - 7s 1s/step - loss: 0.7129 - accuracy: 0.5338\n",
            "Test loss     : 0.7129253149032593\n",
            "Test accuracy : 0.5338345766067505\n"
          ],
          "name": "stdout"
        }
      ]
    },
    {
      "cell_type": "markdown",
      "metadata": {
        "id": "lE35ZH679AIC"
      },
      "source": [
        "Este mismo procedimiento se ha intentado para distintos parámetros de dropout, tamaño del batch, regularizaciones y número de capas. Para todos los casos se ha obtenido que la red no es capaz de obtener información a partir de las fotografías, ya que la accuracy es del 0.53. \r\n",
        "\r\n",
        "Esto probablemente se deba al gran tamaño de las fotografías de entrada en comparación con el humo. Por ello, se necesitaría una red más profunda y adaptada a entradas grandes, lo cual se va a intentar con Transfer Learning."
      ]
    },
    {
      "cell_type": "markdown",
      "metadata": {
        "id": "QgiHWGajnPtW"
      },
      "source": [
        "## 3. Transfer Learning: Red EfficientNetB7"
      ]
    },
    {
      "cell_type": "markdown",
      "metadata": {
        "id": "sUIYA9qyCAsr"
      },
      "source": [
        "En este apartado se utiliza la red convolucional llamada EfficientNetB7, la cual ha sido escogida por haber sido entrenada para el mayor tamaño de entrada de las disponibles en keras applications, 600 x 600.\r\n",
        "\r\n",
        "Esta red se utiliza para diseñar 3 redes distintas y comprobar su eficacia."
      ]
    },
    {
      "cell_type": "code",
      "metadata": {
        "id": "2dB2PMLx4Nji"
      },
      "source": [
        "input_shape_tl = (2400,2400,3)"
      ],
      "execution_count": null,
      "outputs": []
    },
    {
      "cell_type": "code",
      "metadata": {
        "id": "cNIk0ljdXEH5"
      },
      "source": [
        "from tensorflow.keras.applications import Xception, VGG16, ResNet50, VGG19, EfficientNetB7"
      ],
      "execution_count": null,
      "outputs": []
    },
    {
      "cell_type": "code",
      "metadata": {
        "id": "DNSNkCkkrd1j",
        "colab": {
          "base_uri": "https://localhost:8080/"
        },
        "outputId": "7007f7b8-ceb2-4a9d-c174-2d6277c1e5ab"
      },
      "source": [
        "efficient = EfficientNetB7(weights='imagenet', include_top = False)\r\n",
        "efficient_2 = EfficientNetB7(weights = 'imagenet', include_top=False,input_shape = (600,600,3))"
      ],
      "execution_count": null,
      "outputs": [
        {
          "output_type": "stream",
          "text": [
            "Downloading data from https://storage.googleapis.com/keras-applications/efficientnetb7_notop.h5\n",
            "258080768/258076736 [==============================] - 6s 0us/step\n"
          ],
          "name": "stdout"
        }
      ]
    },
    {
      "cell_type": "code",
      "metadata": {
        "id": "RdniaNMTB1U8"
      },
      "source": [
        "efficient.trainable = False\r\n",
        "efficient.summary()"
      ],
      "execution_count": null,
      "outputs": []
    },
    {
      "cell_type": "markdown",
      "metadata": {
        "id": "Uzo-liVUCuhk"
      },
      "source": [
        "La primera approximación utilizando la EfficientNet consta de modificar todas las imágenes de entrada a un tamaño de 2400 x 2400. Esto se hace para añadir dos capas convolucionales y max pooling antes del modelo para reducir las entradas a 600 x 600. Tras concatenar el modelo, se añaden unas capas densas a la salida. Finalmente se entrenan las capas nuevas, dejando el modelo Efficient con los pesos originales."
      ]
    },
    {
      "cell_type": "code",
      "metadata": {
        "id": "tGSKCL9kDVCd",
        "colab": {
          "base_uri": "https://localhost:8080/"
        },
        "outputId": "6051d95b-d983-4258-f10a-f0b1913d848d"
      },
      "source": [
        "my_submodel = Sequential()\r\n",
        "my_submodel.add(Conv2D(3,(3,3),padding='same',input_shape = input_shape_tl))\r\n",
        "my_submodel.add(MaxPooling2D((2,2)))\r\n",
        "my_submodel.add(Conv2D(3,(3,3),padding='same'))\r\n",
        "my_submodel.add(MaxPooling2D((2,2)))\r\n",
        "my_submodel.summary()"
      ],
      "execution_count": null,
      "outputs": [
        {
          "output_type": "stream",
          "text": [
            "Model: \"sequential_6\"\n",
            "_________________________________________________________________\n",
            "Layer (type)                 Output Shape              Param #   \n",
            "=================================================================\n",
            "conv2d_30 (Conv2D)           (None, 2400, 2400, 3)     84        \n",
            "_________________________________________________________________\n",
            "max_pooling2d_19 (MaxPooling (None, 1200, 1200, 3)     0         \n",
            "_________________________________________________________________\n",
            "conv2d_31 (Conv2D)           (None, 1200, 1200, 3)     84        \n",
            "_________________________________________________________________\n",
            "max_pooling2d_20 (MaxPooling (None, 600, 600, 3)       0         \n",
            "=================================================================\n",
            "Total params: 168\n",
            "Trainable params: 168\n",
            "Non-trainable params: 0\n",
            "_________________________________________________________________\n"
          ],
          "name": "stdout"
        }
      ]
    },
    {
      "cell_type": "code",
      "metadata": {
        "id": "1ksKUfy-P69A",
        "colab": {
          "base_uri": "https://localhost:8080/"
        },
        "outputId": "66b81b08-f440-4eae-d15d-cd29f1a05e45"
      },
      "source": [
        "efficient.trainable=False\r\n",
        "x = my_submodel.output\r\n",
        "out = efficient(x)\r\n",
        "global_avg = GlobalAveragePooling2D()(out)\r\n",
        "dense_01 = keras.layers.Dense(units=256,activation=\"relu\")(global_avg)\r\n",
        "drop = keras.layers.Dropout(0.5)(dense_01)\r\n",
        "dense_02 = keras.layers.Dense(units=64,activation=\"relu\")(drop)\r\n",
        "drop2 = keras.layers.Dropout(0.5)(dense_02)\r\n",
        "dense_02 = keras.layers.Dense(2)(drop2)\r\n",
        "act = keras.layers.Activation('softmax')(dense_02)\r\n",
        "tot_model = Model(my_submodel.input, act)\r\n",
        "tot_model.compile(optimizer = 'adam', loss='sparse_categorical_crossentropy',metrics=['accuracy'])\r\n",
        "tot_model.summary()"
      ],
      "execution_count": null,
      "outputs": [
        {
          "output_type": "stream",
          "text": [
            "Model: \"model_18\"\n",
            "_________________________________________________________________\n",
            "Layer (type)                 Output Shape              Param #   \n",
            "=================================================================\n",
            "conv2d_30_input (InputLayer) [(None, 2400, 2400, 3)]   0         \n",
            "_________________________________________________________________\n",
            "conv2d_30 (Conv2D)           (None, 2400, 2400, 3)     84        \n",
            "_________________________________________________________________\n",
            "max_pooling2d_19 (MaxPooling (None, 1200, 1200, 3)     0         \n",
            "_________________________________________________________________\n",
            "conv2d_31 (Conv2D)           (None, 1200, 1200, 3)     84        \n",
            "_________________________________________________________________\n",
            "max_pooling2d_20 (MaxPooling (None, 600, 600, 3)       0         \n",
            "_________________________________________________________________\n",
            "efficientnetb7 (Functional)  (None, None, None, 2560)  64097687  \n",
            "_________________________________________________________________\n",
            "global_average_pooling2d_5 ( (None, 2560)              0         \n",
            "_________________________________________________________________\n",
            "dense_15 (Dense)             (None, 256)               655616    \n",
            "_________________________________________________________________\n",
            "dropout_25 (Dropout)         (None, 256)               0         \n",
            "_________________________________________________________________\n",
            "dense_16 (Dense)             (None, 64)                16448     \n",
            "_________________________________________________________________\n",
            "dropout_26 (Dropout)         (None, 64)                0         \n",
            "_________________________________________________________________\n",
            "dense_17 (Dense)             (None, 2)                 130       \n",
            "_________________________________________________________________\n",
            "activation_5 (Activation)    (None, 2)                 0         \n",
            "=================================================================\n",
            "Total params: 64,770,049\n",
            "Trainable params: 672,362\n",
            "Non-trainable params: 64,097,687\n",
            "_________________________________________________________________\n"
          ],
          "name": "stdout"
        }
      ]
    },
    {
      "cell_type": "code",
      "metadata": {
        "id": "UoyWINxv3b-i"
      },
      "source": [
        "target_size = (2400,2400)\r\n",
        "batch_size = 2"
      ],
      "execution_count": null,
      "outputs": []
    },
    {
      "cell_type": "code",
      "metadata": {
        "colab": {
          "base_uri": "https://localhost:8080/"
        },
        "id": "hObx66S13Xzj",
        "outputId": "4eec7249-15c5-4952-839f-e63df2fd98d5"
      },
      "source": [
        "train_generator_tl = train_gen.flow_from_dataframe(\r\n",
        "    dataframe=df_train,\r\n",
        "    x_col = \"filepath\",\r\n",
        "    y_col = \"class\",\r\n",
        "    target_size = target_size,\r\n",
        "    batch_size=batch_size,\r\n",
        "    shuffle=True,\r\n",
        "    class_mode='sparse')\r\n",
        "\r\n",
        "val_generator_tl = val_gen.flow_from_dataframe(\r\n",
        "    dataframe=df_val,\r\n",
        "    x_col = \"filepath\",\r\n",
        "    y_col = \"class\",\r\n",
        "    target_size = target_size,\r\n",
        "    batch_size=batch_size,\r\n",
        "    shuffle=False,\r\n",
        "    class_mode='sparse')\r\n",
        "\r\n",
        "test_generator_tl = test_gen.flow_from_dataframe(\r\n",
        "    dataframe=df_test,\r\n",
        "    x_col = \"filepath\",\r\n",
        "    y_col = \"class\",\r\n",
        "    target_size = target_size,\r\n",
        "    batch_size=batch_size,\r\n",
        "    shuffle=False,\r\n",
        "    class_mode='sparse')"
      ],
      "execution_count": null,
      "outputs": [
        {
          "output_type": "stream",
          "text": [
            "Found 935 validated image filenames belonging to 2 classes.\n",
            "Found 268 validated image filenames belonging to 2 classes.\n",
            "Found 133 validated image filenames belonging to 2 classes.\n"
          ],
          "name": "stdout"
        }
      ]
    },
    {
      "cell_type": "code",
      "metadata": {
        "id": "dr23W_po_AD7"
      },
      "source": [
        "for batch in test_generator_tl:\r\n",
        "  im = batch[0][31]\r\n",
        "  plt.imshow(im)\r\n",
        "  break"
      ],
      "execution_count": null,
      "outputs": []
    },
    {
      "cell_type": "code",
      "metadata": {
        "colab": {
          "base_uri": "https://localhost:8080/"
        },
        "id": "2dGqcfeY7P9P",
        "outputId": "82ea7b8f-72c2-406f-f29b-ad79dab7f058"
      },
      "source": [
        "history_tl = tot_model.fit(train_generator_tl,\r\n",
        "             batch_size = batch_size,\r\n",
        "             epochs = 2,\r\n",
        "             validation_data = val_generator_tl\r\n",
        "             )"
      ],
      "execution_count": null,
      "outputs": [
        {
          "output_type": "stream",
          "text": [
            "Epoch 1/2\n",
            "468/468 [==============================] - 1527s 3s/step - loss: 0.8723 - accuracy: 0.4845 - val_loss: 0.6911 - val_accuracy: 0.5336\n",
            "Epoch 2/2\n",
            "468/468 [==============================] - 1497s 3s/step - loss: 0.7151 - accuracy: 0.5316 - val_loss: 0.6911 - val_accuracy: 0.5336\n"
          ],
          "name": "stdout"
        }
      ]
    },
    {
      "cell_type": "code",
      "metadata": {
        "colab": {
          "base_uri": "https://localhost:8080/"
        },
        "id": "UveqMppq_1c_",
        "outputId": "995830f6-7bf9-4bac-cad0-8f8106824551"
      },
      "source": [
        "scores_tr = tot_model.evaluate(train_generator_tl)\r\n",
        "print('Train loss    :', scores_tr[0])\r\n",
        "print('Train accuracy:', scores_tr[1])\r\n",
        "print()\r\n",
        "\r\n",
        "scores_val = tot_model.evaluate(val_generator_tl)\r\n",
        "print('Val loss    :', scores_val[0])\r\n",
        "print('Val accuracy:', scores_val[1])\r\n",
        "print()\r\n",
        "\r\n",
        "scores_te = tot_model.evaluate(test_generator_tl)\r\n",
        "print('Test loss     :', scores_te[0])\r\n",
        "print('Test accuracy :', scores_te[1])"
      ],
      "execution_count": null,
      "outputs": [
        {
          "output_type": "stream",
          "text": [
            "468/468 [==============================] - 1219s 3s/step - loss: 0.6911 - accuracy: 0.5337\n",
            "Train loss    : 0.6910744905471802\n",
            "Train accuracy: 0.5336898565292358\n",
            "\n",
            "134/134 [==============================] - 48s 357ms/step - loss: 0.6910 - accuracy: 0.5336\n",
            "Val loss    : 0.6909761428833008\n",
            "Val accuracy: 0.5335820913314819\n",
            "\n",
            "67/67 [==============================] - 24s 354ms/step - loss: 0.6912 - accuracy: 0.5338\n",
            "Test loss     : 0.6912146210670471\n",
            "Test accuracy : 0.5338345766067505\n"
          ],
          "name": "stdout"
        }
      ]
    },
    {
      "cell_type": "markdown",
      "metadata": {
        "id": "5_SwA7k0Dezr"
      },
      "source": [
        "El segundo acercamiento utilizando la red EfficientNet consta de retirar las capas convolucionales iniciales y dejar que los propios generaciones reduzcan las imágenes de entrada al tamaño de entrada de la red, 600 x 600."
      ]
    },
    {
      "cell_type": "code",
      "metadata": {
        "colab": {
          "base_uri": "https://localhost:8080/"
        },
        "id": "GbhZDaVlRVoW",
        "outputId": "2320d381-0816-416a-a4a6-681c413e5e31"
      },
      "source": [
        "target_size_2 = (600,600)\r\n",
        "batch_size = 8\r\n",
        "\r\n",
        "train_generator_tl_2 = train_gen.flow_from_dataframe(\r\n",
        "    dataframe=df_train,\r\n",
        "    x_col = \"filepath\",\r\n",
        "    y_col = \"class\",\r\n",
        "    target_size = target_size_2,\r\n",
        "    batch_size=batch_size,\r\n",
        "    shuffle=True,\r\n",
        "    class_mode='sparse')\r\n",
        "\r\n",
        "val_generator_tl_2 = val_gen.flow_from_dataframe(\r\n",
        "    dataframe=df_val,\r\n",
        "    x_col = \"filepath\",\r\n",
        "    y_col = \"class\",\r\n",
        "    target_size = target_size_2,\r\n",
        "    batch_size=batch_size,\r\n",
        "    shuffle=False,\r\n",
        "    class_mode='sparse')\r\n",
        "\r\n",
        "test_generator_tl_2 = test_gen.flow_from_dataframe(\r\n",
        "    dataframe=df_test,\r\n",
        "    x_col = \"filepath\",\r\n",
        "    y_col = \"class\",\r\n",
        "    target_size = target_size_2,\r\n",
        "    batch_size=batch_size,\r\n",
        "    shuffle=False,\r\n",
        "    class_mode='sparse')"
      ],
      "execution_count": null,
      "outputs": [
        {
          "output_type": "stream",
          "text": [
            "Found 935 validated image filenames belonging to 2 classes.\n",
            "Found 268 validated image filenames belonging to 2 classes.\n",
            "Found 133 validated image filenames belonging to 2 classes.\n"
          ],
          "name": "stdout"
        }
      ]
    },
    {
      "cell_type": "code",
      "metadata": {
        "id": "lp3g8C8bRxw2"
      },
      "source": [
        "efficient_2.trainable=False\r\n",
        "x = efficient_2.output\r\n",
        "global_avg = GlobalAveragePooling2D()(x)\r\n",
        "dense_01 = keras.layers.Dense(units=256,activation=\"relu\")(global_avg)\r\n",
        "drop = keras.layers.Dropout(0.5)(dense_01)\r\n",
        "dense_02 = keras.layers.Dense(units=64,activation=\"relu\")(drop)\r\n",
        "drop2 = keras.layers.Dropout(0.5)(dense_02)\r\n",
        "dense_02 = keras.layers.Dense(2)(drop2)\r\n",
        "act = keras.layers.Activation('softmax')(dense_02)\r\n",
        "tot_model_2 = Model(efficient_2.input, act)\r\n",
        "tot_model_2.compile(optimizer = 'adam', loss='sparse_categorical_crossentropy',metrics=['accuracy'])\r\n",
        "tot_model_2.summary()"
      ],
      "execution_count": null,
      "outputs": []
    },
    {
      "cell_type": "code",
      "metadata": {
        "colab": {
          "base_uri": "https://localhost:8080/"
        },
        "id": "LH5o74z6TCAX",
        "outputId": "98f1be84-d60e-45f9-ccf8-40e3c598c061"
      },
      "source": [
        "history_tl_2 = tot_model_2.fit(train_generator_tl_2,\r\n",
        "             batch_size = batch_size,\r\n",
        "             epochs = 4,\r\n",
        "             validation_data = val_generator_tl_2\r\n",
        "             )"
      ],
      "execution_count": null,
      "outputs": [
        {
          "output_type": "stream",
          "text": [
            "Epoch 1/4\n",
            "117/117 [==============================] - 191s 1s/step - loss: 0.8578 - accuracy: 0.5196 - val_loss: 0.6910 - val_accuracy: 0.5336\n",
            "Epoch 2/4\n",
            "117/117 [==============================] - 173s 1s/step - loss: 0.7022 - accuracy: 0.5186 - val_loss: 0.6925 - val_accuracy: 0.5336\n",
            "Epoch 3/4\n",
            "117/117 [==============================] - 169s 1s/step - loss: 0.6937 - accuracy: 0.4957 - val_loss: 0.6918 - val_accuracy: 0.5336\n",
            "Epoch 4/4\n",
            "117/117 [==============================] - 169s 1s/step - loss: 0.6898 - accuracy: 0.5668 - val_loss: 0.6912 - val_accuracy: 0.5336\n"
          ],
          "name": "stdout"
        }
      ]
    },
    {
      "cell_type": "code",
      "metadata": {
        "colab": {
          "base_uri": "https://localhost:8080/"
        },
        "id": "hvHL2DWxZj9i",
        "outputId": "62aa6022-447a-4cb8-a458-9858330ecced"
      },
      "source": [
        "scores_tr = tot_model_2.evaluate(train_generator_tl_2)\r\n",
        "print('Train loss    :', scores_tr[0])\r\n",
        "print('Train accuracy:', scores_tr[1])\r\n",
        "print()\r\n",
        "\r\n",
        "scores_val = tot_model_2.evaluate(val_generator_tl_2)\r\n",
        "print('Val loss    :', scores_val[0])\r\n",
        "print('Val accuracy:', scores_val[1])\r\n",
        "print()\r\n",
        "\r\n",
        "scores_te = tot_model_2.evaluate(test_generator_tl_2)\r\n",
        "print('Test loss     :', scores_te[0])\r\n",
        "print('Test accuracy :', scores_te[1])"
      ],
      "execution_count": null,
      "outputs": [
        {
          "output_type": "stream",
          "text": [
            "117/117 [==============================] - 148s 1s/step - loss: 0.6912 - accuracy: 0.5337\n",
            "Train loss    : 0.6911768913269043\n",
            "Train accuracy: 0.5336898565292358\n",
            "\n",
            "34/34 [==============================] - 25s 723ms/step - loss: 0.6912 - accuracy: 0.5336\n",
            "Val loss    : 0.6911858916282654\n",
            "Val accuracy: 0.5335820913314819\n",
            "\n",
            "17/17 [==============================] - 14s 779ms/step - loss: 0.6912 - accuracy: 0.5338\n",
            "Test loss     : 0.6911644339561462\n",
            "Test accuracy : 0.5338345766067505\n"
          ],
          "name": "stdout"
        }
      ]
    },
    {
      "cell_type": "code",
      "metadata": {
        "id": "MaPIBN97kegD"
      },
      "source": [
        "def get_roc(models, test_gens, pos_class=1):\r\n",
        "  y_real = np.array(test_gens[0].classes)\r\n",
        "  fig, ax1 = plt.subplots(1,1)\r\n",
        "  ax1.set_xlabel('False Positive Rate')\r\n",
        "  ax1.set_ylabel('True Positive Rate')\r\n",
        "  aspect = ['r--','g--','m--','c--','ro-','go-','c--','m--']\r\n",
        "  aucs = []\r\n",
        "  for i in range(len(models)):\r\n",
        "    model = models[i]\r\n",
        "    c = aspect[i]\r\n",
        "    y_pred_proba = model.predict(test_gens[i])\r\n",
        "    fpr, tpr, thresholds = roc_curve(y_real==pos_class, y_pred_proba[:,pos_class])\r\n",
        "    au = auc(fpr, tpr)\r\n",
        "    ax1.plot(fpr, tpr, c , label = f'CNN {i+1} ({au:.2f})')\r\n",
        "    aucs.append(au)\r\n",
        "  ax1.plot(fpr, fpr, 'b-', label = 'Random Guess')\r\n",
        "  ax1.legend();\r\n",
        "  plt.show()\r\n",
        "  return aucs"
      ],
      "execution_count": null,
      "outputs": []
    },
    {
      "cell_type": "code",
      "metadata": {
        "colab": {
          "base_uri": "https://localhost:8080/",
          "height": 278
        },
        "id": "8F8gqiDLkhR6",
        "outputId": "e2cab2f3-cb76-4a70-9af7-5e24ec583ad3"
      },
      "source": [
        "aucs = get_roc([model,tot_model,tot_model_2],[test_generator,test_generator_tl,test_generator_tl_2])"
      ],
      "execution_count": null,
      "outputs": [
        {
          "output_type": "display_data",
          "data": {
            "image/png": "[encoded data removed]",
            "text/plain": [
              "<Figure size 432x288 with 1 Axes>"
            ]
          },
          "metadata": {
            "tags": [],
            "needs_background": "light"
          }
        }
      ]
    },
    {
      "cell_type": "markdown",
      "metadata": {
        "id": "gHNxrsCVD6on"
      },
      "source": [
        "Representando las curvas roc de cada uno de los modelos, se puede observar claramente que ninguno de ellos es util para obtener información de las imágenes de entrada. A continuación se ha probado a sustituir las capas densas por un Support Vector Classifier, sin obtener ningún resultado."
      ]
    },
    {
      "cell_type": "code",
      "metadata": {
        "id": "QUjY7nTeBWBg"
      },
      "source": [
        "from sklearn.svm import SVC"
      ],
      "execution_count": null,
      "outputs": []
    },
    {
      "cell_type": "code",
      "metadata": {
        "id": "z5fbNgpZwKpC"
      },
      "source": [
        "efficient_2.trainable=False\r\n",
        "global_avg = GlobalAveragePooling2D()(efficient_2.output)\r\n",
        "svm = Model(inputs = efficient_2.input, outputs = global_avg)\r\n",
        "svm.compile()"
      ],
      "execution_count": null,
      "outputs": []
    },
    {
      "cell_type": "code",
      "metadata": {
        "colab": {
          "base_uri": "https://localhost:8080/"
        },
        "id": "anivx0nkwwtw",
        "outputId": "72bff4d0-480a-4fde-ca28-21a59ccb5c52"
      },
      "source": [
        "target_size_2 = (600,600)\r\n",
        "batch_size = 1\r\n",
        "\r\n",
        "train_generator_tl_3 = train_gen.flow_from_dataframe(\r\n",
        "    dataframe=df_train,\r\n",
        "    x_col = \"filepath\",\r\n",
        "    y_col = \"class\",\r\n",
        "    target_size = target_size_2,\r\n",
        "    batch_size=batch_size,\r\n",
        "    shuffle=True,\r\n",
        "    class_mode='sparse')\r\n",
        "\r\n",
        "val_generator_tl_3 = val_gen.flow_from_dataframe(\r\n",
        "    dataframe=df_val,\r\n",
        "    x_col = \"filepath\",\r\n",
        "    y_col = \"class\",\r\n",
        "    target_size = target_size_2,\r\n",
        "    batch_size=batch_size,\r\n",
        "    shuffle=False,\r\n",
        "    class_mode='sparse')\r\n",
        "\r\n",
        "test_generator_tl_3 = test_gen.flow_from_dataframe(\r\n",
        "    dataframe=df_test,\r\n",
        "    x_col = \"filepath\",\r\n",
        "    y_col = \"class\",\r\n",
        "    target_size = target_size_2,\r\n",
        "    batch_size=batch_size,\r\n",
        "    shuffle=False,\r\n",
        "    class_mode='sparse')"
      ],
      "execution_count": null,
      "outputs": [
        {
          "output_type": "stream",
          "text": [
            "Found 935 validated image filenames belonging to 2 classes.\n",
            "Found 268 validated image filenames belonging to 2 classes.\n",
            "Found 133 validated image filenames belonging to 2 classes.\n"
          ],
          "name": "stdout"
        }
      ]
    },
    {
      "cell_type": "code",
      "metadata": {
        "id": "ezbr5_iIt36T"
      },
      "source": [
        "features_train = svm.predict(train_generator_tl_3)\r\n",
        "features_val = svm.predict(val_generator_tl_3)\r\n",
        "features_test = svm.predict(test_generator_tl_3)"
      ],
      "execution_count": null,
      "outputs": []
    },
    {
      "cell_type": "code",
      "metadata": {
        "id": "gPyrfopfu1Ip"
      },
      "source": [
        "feat_train_df = pd.DataFrame(features_train)\r\n",
        "feat_train_df['labels'] = train_generator_tl_3.labels\r\n",
        "\r\n",
        "feat_val_df = pd.DataFrame(features_val)\r\n",
        "feat_val_df['labels'] = val_generator_tl_3.labels\r\n",
        "\r\n",
        "feat_test_df = pd.DataFrame(features_test)\r\n",
        "feat_test_df['labels'] = test_generator_tl_3.labels"
      ],
      "execution_count": null,
      "outputs": []
    },
    {
      "cell_type": "code",
      "metadata": {
        "id": "Qnx7dudZx0RI"
      },
      "source": [
        "X_train = feat_train_df.iloc[:,:-1]\r\n",
        "Y_train = feat_train_df.iloc[:,-1]\r\n",
        "\r\n",
        "X_val = feat_val_df.iloc[:,:-1]\r\n",
        "Y_val = feat_val_df.iloc[:,-1]\r\n",
        "\r\n",
        "X_test = feat_test_df.iloc[:,:-1]\r\n",
        "Y_test = feat_test_df.iloc[:,-1]"
      ],
      "execution_count": null,
      "outputs": []
    },
    {
      "cell_type": "code",
      "metadata": {
        "id": "uyClN-X73QNs",
        "colab": {
          "base_uri": "https://localhost:8080/"
        },
        "outputId": "82b577b8-063e-424a-8c44-0824d6d5ef66"
      },
      "source": [
        "model_ml = SVC(C=0.8)\r\n",
        "model_ml.fit(X_train,Y_train)"
      ],
      "execution_count": null,
      "outputs": [
        {
          "output_type": "execute_result",
          "data": {
            "text/plain": [
              "SVC(C=0.8, break_ties=False, cache_size=200, class_weight=None, coef0=0.0,\n",
              "    decision_function_shape='ovr', degree=3, gamma='scale', kernel='rbf',\n",
              "    max_iter=-1, probability=False, random_state=None, shrinking=True,\n",
              "    tol=0.001, verbose=False)"
            ]
          },
          "metadata": {
            "tags": []
          },
          "execution_count": 58
        }
      ]
    },
    {
      "cell_type": "code",
      "metadata": {
        "id": "sB8a_7ZO4ZHW",
        "colab": {
          "base_uri": "https://localhost:8080/"
        },
        "outputId": "476c916c-9b10-4487-a7bc-e78cb8572701"
      },
      "source": [
        "model_ml.score(X_train, Y_train)"
      ],
      "execution_count": null,
      "outputs": [
        {
          "output_type": "execute_result",
          "data": {
            "text/plain": [
              "0.5336898395721925"
            ]
          },
          "metadata": {
            "tags": []
          },
          "execution_count": 59
        }
      ]
    },
    {
      "cell_type": "code",
      "metadata": {
        "id": "nRsjzChn4Zt6",
        "colab": {
          "base_uri": "https://localhost:8080/"
        },
        "outputId": "d50066ba-c33d-4d83-abcc-01ea4a6b1adc"
      },
      "source": [
        "model_ml.score(X_test, Y_test)"
      ],
      "execution_count": null,
      "outputs": [
        {
          "output_type": "execute_result",
          "data": {
            "text/plain": [
              "0.5338345864661654"
            ]
          },
          "metadata": {
            "tags": []
          },
          "execution_count": 60
        }
      ]
    },
    {
      "cell_type": "markdown",
      "metadata": {
        "id": "yecuWAbkne8q"
      },
      "source": [
        "## Visualización de la red\r\n",
        "\r\n",
        "Finalmente, se ha diseñado un pequeño código para poder visualizar las salidas de cada capa de la red, observando que salen mayormente negras. Esto concuerda con el hecho de que no obtengan información."
      ]
    },
    {
      "cell_type": "code",
      "metadata": {
        "id": "S0QdoHTwFKY1"
      },
      "source": [
        "batch=30\r\n",
        "n = 3\r\n",
        "ncapa = 1\r\n",
        "\r\n",
        "def print_layer_exits(model, layer_ind, generator, batch, n):\r\n",
        "  int_model = Model(inputs=model.input, outputs=model.layers[layer_ind].output)\r\n",
        "  image = generator[batch][0][n]\r\n",
        "  aux = np.expand_dims(image, axis=0)\r\n",
        "  result = int_model.predict(aux)\r\n",
        "\r\n",
        "  plt.figure(figsize=(3,3))\r\n",
        "  plt.imshow(image, cmap='gray')\r\n",
        "  plt.title('input image', size=12)\r\n",
        "  plt.xticks(())\r\n",
        "  plt.yticks(())\r\n",
        "  plt.show()\r\n",
        "\r\n",
        "  print(f\"Exits from layer {int_model.layers[-1].name} (Shape {result.shape})\")\r\n",
        "\r\n",
        "  n_exits = result.shape[-1]\r\n",
        "  ncols = 4\r\n",
        "  nrows = int(np.ceil(n_exits / ncols))\r\n",
        "\r\n",
        "  ma = abs(result).max()\r\n",
        "\r\n",
        "  plt.subplots(nrows,ncols,figsize = (12, 3*nrows))\r\n",
        "\r\n",
        "  for i in range(n_exits):\r\n",
        "      plt.subplot(nrows,ncols,i+1)\r\n",
        "      plt.imshow(result[0,:,:,i], vmin=-ma, vmax=ma, cmap='bwr')\r\n",
        "      plt.imshow(result[0,:,:,i], cmap='viridis')\r\n",
        "      plt.xticks(())\r\n",
        "      plt.yticks(())\r\n",
        "      plt.title('Exit from kernel %d' % i, fontsize=10)\r\n",
        "\r\n",
        "print_layer_exits(model, ncapa, train_generator, batch, n)"
      ],
      "execution_count": null,
      "outputs": []
    },
    {
      "cell_type": "code",
      "metadata": {
        "id": "z-DQeocGGXgk"
      },
      "source": [
        ""
      ],
      "execution_count": null,
      "outputs": []
    }
  ]
}