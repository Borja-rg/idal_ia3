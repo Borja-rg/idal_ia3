{
  "nbformat": 4,
  "nbformat_minor": 0,
  "metadata": {
    "colab": {
      "name": "My_Batmobile",
      "provenance": [],
      "collapsed_sections": [],
      "authorship_tag": "ABX9TyOr5yA87nPTCfhU6IKsdjjB",
      "include_colab_link": true
    },
    "kernelspec": {
      "name": "python3",
      "display_name": "Python 3"
    }
  },
  "cells": [
    {
      "cell_type": "markdown",
      "metadata": {
        "id": "view-in-github",
        "colab_type": "text"
      },
      "source": [
        "<a href=\"https://colab.research.google.com/github/Borja-rg/idal_ia3/blob/main/My_Batmobile.ipynb\" target=\"_parent\"><img src=\"https://colab.research.google.com/assets/colab-badge.svg\" alt=\"Open In Colab\"/></a>"
      ]
    },
    {
      "cell_type": "code",
      "metadata": {
        "id": "C9qoolVGcfrr"
      },
      "source": [
        "class Rocket:\n",
        "  def __init__(self, ammunition):\n",
        "    self.ammunition = ammunition\n",
        "\n",
        "  def shoot(self,objective):\n",
        "    if self.ammunition==0:\n",
        "      print('Alert: Run out of batrocket ammo.')\n",
        "    else:\n",
        "      self.ammunition -= 1\n",
        "      objective.KO = True\n",
        "      print(f'Remaining rocket ammo: {self.n_rock}.')\n",
        "\n",
        "\n",
        "class PEM_Pulse:\n",
        "  def __init__(self, ammunition):\n",
        "    self.ammunition = ammunition\n",
        "  \n",
        "  def shoot(self,objective):\n",
        "    if self.ammunition==0:\n",
        "      print('Alert: Run out of PEM pulses.')\n",
        "    else:\n",
        "      self.ammunition -= 1\n",
        "      objective.KO = True\n",
        "      print(f'Remaining PEM pulses: {self.ammunition}.')\n",
        "\n",
        "\n",
        "class Joker:\n",
        "  def __init__(self):\n",
        "    self.KO = False\n",
        "    self.Weapon = True\n",
        "\n",
        "\n",
        "class Joker_Villain:\n",
        "  def __init__(self):\n",
        "    self.KO = False\n",
        "    self.Weapon = True\n",
        "\n",
        "\n",
        "class Pilot:\n",
        "  def __init__(self, pilot='Batman'):\n",
        "    self.pilot=pilot\n",
        "\n",
        "  def describe_pilot(self):\n",
        "    print('Hi Alfred, please confirm who is driving the Batmovil.')\n",
        "    print(f'Ok, the pilot is {self.pilot}')\n",
        "\n",
        "\n",
        "class Batmobile:\n",
        "  def __init__(self, pilot=Pilot('Batman'), rocket=Rocket(10), pem=PEM_Pulse(4), l_gas=100.0):\n",
        "    self.pilot = pilot\n",
        "    self.rocket = rocket\n",
        "    self.pem = pem\n",
        "    self.l_gas = l_gas\n",
        "\n",
        "    # Initialitation\n",
        "    self.velocity = 0\n",
        "    self.orientation = [0]\n",
        "    self.distance = [0]\n",
        "\n",
        "    # Car Specs\n",
        "    self.turbo_secs = 20\n",
        "    self.vel_limit = 55 #In m/s -> Around 200 km/h\n",
        "    self.consumption = 6e-4 #In L/m -> Around 60 L/100km\n",
        "\n",
        "  # Movement-related methods: _gas_consume, drive (straight), turn (change of orientation), accelerate, turbo, describe_traj\n",
        "\n",
        "  def accelerate(self, a, t):\n",
        "    new_vel = self.velocity+a*t\n",
        "    if new_vel>self.vel_limit:\n",
        "      t = (self.vel_limit-self.velocity)/a\n",
        "      new_vel = self.vel_limit\n",
        "      print('Alert: Speed limit reached.')\n",
        "    self.drive(t,a)\n",
        "    self.velocity = new_vel\n",
        "\n",
        "  def _gas_consume(self, metres):\n",
        "    cons = metres*self.consumption\n",
        "    if cons>self.l_gas:\n",
        "      cons = self.vel_limit\n",
        "      print('Alert: Run out of gas.')\n",
        "      self.accelerate(-2,self.velocity/2) \n",
        "    self.l_gas -= cons\n",
        "    print(f'Remaining gas: {self.l_gas} L.')\n",
        "    return cons/self.consumption\n",
        "  \n",
        "  def drive(self, t, a=0):\n",
        "    dist = self.velocity*t+a*t**2\n",
        "    dist = self._gas_consume(dist)\n",
        "    self.distance.append(dist)\n",
        "    self.orientation.append(self.orientation[-1])\n",
        "  \n",
        "  def turn(self, degree):\n",
        "    new_or = self.orientation[-1]+degree%360\n",
        "    self.orientation.append(new_or)\n",
        "    self.distance.append(0)\n",
        "\n",
        "  def turbo(self, seconds):\n",
        "    if self.turbo_secs==0:\n",
        "      print('Alert: Run out of turbo.')\n",
        "    else:\n",
        "      if self.turbo_secs<seconds:\n",
        "        seconds=self.turbo_secs\n",
        "      self.turbo_secs -= seconds\n",
        "      self.velocity *= 2\n",
        "      self.drive(seconds)\n",
        "      self.velocity /= 2\n",
        "      print(f'Remaining turbo activation time: {self.turbo_secs} s.')\n",
        "\n",
        "  def describe_traj(self):\n",
        "    print(f'The vector of traveled distance is: {self.distance}')\n",
        "    print(f'The vector of orientation is; {self.orientation}')\n",
        "\n",
        "  # Weapon-related methods: launch_rocket and launch_pem\n",
        "\n",
        "  def launch_rocket(self, objective):\n",
        "    self.rocket.shoot(objective)\n",
        "\n",
        "  def launch_pem(self, objective):\n",
        "    self.pem.shoot(objective)\n",
        "\n",
        "\n",
        "\n"
      ],
      "execution_count": 3,
      "outputs": []
    },
    {
      "cell_type": "code",
      "metadata": {
        "id": "OaNhG4rlzwiK",
        "outputId": "761662c1-f26a-4256-9ed5-605b80c16176",
        "colab": {
          "base_uri": "https://localhost:8080/",
          "height": 54
        }
      },
      "source": [
        "coche = Batmobile()\n",
        "coche.accelerate(10,1)\n",
        "coche.velocity"
      ],
      "execution_count": 4,
      "outputs": [
        {
          "output_type": "stream",
          "text": [
            "Remaining gas: 99.994 L.\n"
          ],
          "name": "stdout"
        },
        {
          "output_type": "execute_result",
          "data": {
            "text/plain": [
              "10"
            ]
          },
          "metadata": {
            "tags": []
          },
          "execution_count": 4
        }
      ]
    },
    {
      "cell_type": "code",
      "metadata": {
        "id": "EsscEJdp37uw",
        "outputId": "0acd4d57-d933-45cf-faee-350bde6d56cb",
        "colab": {
          "base_uri": "https://localhost:8080/",
          "height": 54
        }
      },
      "source": [
        "coche.describe_traj()"
      ],
      "execution_count": 5,
      "outputs": [
        {
          "output_type": "stream",
          "text": [
            "The vector of traveled distance is: [0, 10.0]\n",
            "The vector of orientation is; [0, 0]\n"
          ],
          "name": "stdout"
        }
      ]
    },
    {
      "cell_type": "code",
      "metadata": {
        "id": "NDnZZ1QVBLiw",
        "outputId": "71a97a01-eb23-4771-c6be-705872e066f9",
        "colab": {
          "base_uri": "https://localhost:8080/",
          "height": 54
        }
      },
      "source": [
        "coche.turn(90)\n",
        "coche.drive(100)\n",
        "coche.accelerate(20,2)"
      ],
      "execution_count": 6,
      "outputs": [
        {
          "output_type": "stream",
          "text": [
            "Remaining gas: 99.394 L.\n",
            "Remaining gas: 99.334 L.\n"
          ],
          "name": "stdout"
        }
      ]
    },
    {
      "cell_type": "code",
      "metadata": {
        "id": "vNNI-qZsBWre",
        "outputId": "d66e5592-74b6-4dc3-bb84-e707384f6511",
        "colab": {
          "base_uri": "https://localhost:8080/",
          "height": 36
        }
      },
      "source": [
        "coche.velocity"
      ],
      "execution_count": 7,
      "outputs": [
        {
          "output_type": "execute_result",
          "data": {
            "text/plain": [
              "50"
            ]
          },
          "metadata": {
            "tags": []
          },
          "execution_count": 7
        }
      ]
    },
    {
      "cell_type": "code",
      "metadata": {
        "id": "65DMNq4eBZ2i",
        "outputId": "f7fc6d54-0322-4770-9bd1-dbcad5dfbdc3",
        "colab": {
          "base_uri": "https://localhost:8080/",
          "height": 54
        }
      },
      "source": [
        "coche.accelerate(10,1)"
      ],
      "execution_count": 8,
      "outputs": [
        {
          "output_type": "stream",
          "text": [
            "Alert: Speed limit reached.\n",
            "Remaining gas: 99.31750000000001 L.\n"
          ],
          "name": "stdout"
        }
      ]
    },
    {
      "cell_type": "code",
      "metadata": {
        "id": "L-5TvoWvBdfM",
        "outputId": "2df0e27a-7f24-4594-e7c3-84bd74595d22",
        "colab": {
          "base_uri": "https://localhost:8080/",
          "height": 36
        }
      },
      "source": [
        "coche.velocity"
      ],
      "execution_count": 9,
      "outputs": [
        {
          "output_type": "execute_result",
          "data": {
            "text/plain": [
              "55"
            ]
          },
          "metadata": {
            "tags": []
          },
          "execution_count": 9
        }
      ]
    },
    {
      "cell_type": "code",
      "metadata": {
        "id": "WW4ZUa8dBfsg",
        "outputId": "c881ddf2-9817-4a51-f638-33b7f808cb72",
        "colab": {
          "base_uri": "https://localhost:8080/",
          "height": 54
        }
      },
      "source": [
        "coche.turbo(7)"
      ],
      "execution_count": 10,
      "outputs": [
        {
          "output_type": "stream",
          "text": [
            "Remaining gas: 98.8555 L.\n",
            "Remaining turbo activation time: 13 s.\n"
          ],
          "name": "stdout"
        }
      ]
    },
    {
      "cell_type": "code",
      "metadata": {
        "id": "fAPiDD1YBkLf",
        "outputId": "e22a7bf6-6d9d-454c-f72f-300619c6f804",
        "colab": {
          "base_uri": "https://localhost:8080/",
          "height": 54
        }
      },
      "source": [
        "coche.describe_traj()"
      ],
      "execution_count": 11,
      "outputs": [
        {
          "output_type": "stream",
          "text": [
            "The vector of traveled distance is: [0, 10.0, 0, 1000.0, 100.0, 27.499999999999996, 770.0]\n",
            "The vector of orientation is; [0, 0, 90, 90, 90, 90, 90]\n"
          ],
          "name": "stdout"
        }
      ]
    },
    {
      "cell_type": "code",
      "metadata": {
        "id": "UkFJWtPRCg6p",
        "outputId": "e67b3ab2-4dc4-4f9c-e135-11bcf9b8132b",
        "colab": {
          "base_uri": "https://localhost:8080/",
          "height": 36
        }
      },
      "source": [
        ""
      ],
      "execution_count": 2,
      "outputs": [
        {
          "output_type": "execute_result",
          "data": {
            "text/plain": [
              "90"
            ]
          },
          "metadata": {
            "tags": []
          },
          "execution_count": 2
        }
      ]
    },
    {
      "cell_type": "code",
      "metadata": {
        "id": "vKPH-Or9eGzB"
      },
      "source": [
        ""
      ],
      "execution_count": null,
      "outputs": []
    }
  ]
}