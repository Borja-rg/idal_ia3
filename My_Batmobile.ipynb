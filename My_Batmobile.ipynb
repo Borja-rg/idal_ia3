{
  "nbformat": 4,
  "nbformat_minor": 0,
  "metadata": {
    "colab": {
      "name": "Untitled",
      "provenance": [],
      "authorship_tag": "ABX9TyMBHdQcVvBa92sKSiJ6KhO1",
      "include_colab_link": true
    },
    "kernelspec": {
      "name": "python3",
      "display_name": "Python 3"
    }
  },
  "cells": [
    {
      "cell_type": "markdown",
      "metadata": {
        "id": "view-in-github",
        "colab_type": "text"
      },
      "source": [
        "<a href=\"https://colab.research.google.com/github/Borja-rg/idal_ia3/blob/main/My_Batmobile.ipynb\" target=\"_parent\"><img src=\"https://colab.research.google.com/assets/colab-badge.svg\" alt=\"Open In Colab\"/></a>"
      ]
    },
    {
      "cell_type": "code",
      "metadata": {
        "id": "C9qoolVGcfrr",
        "outputId": "70a24386-20cc-46c5-f9b4-3bf68b6fb476",
        "colab": {
          "base_uri": "https://localhost:8080/",
          "height": 137
        }
      },
      "source": [
        "class Batmobile:\n",
        "\n",
        "  def __init__(self, pilot=Pilot(), rocket=Rocket(10), pem=PEM_Pulse(4), l_gas=100.0):\n",
        "    self.pilot = pilot\n",
        "    self.rocket = rocket\n",
        "    self.pem = pem\n",
        "    self.l_gas = l_gas\n",
        "\n",
        "    self.velocity = 0\n",
        "    self.vel_limit = 55 #In m/s -> Around 200 km/h\n",
        "    self.orientation = []\n",
        "    self.distance = []\n",
        "    self.turbo_secs = 20\n",
        "    self.consumption = 6e-4 #In L/m -> Around 60 L/100km\n",
        "\n",
        "  def accelerate(self, a, t):\n",
        "    new_vel = self.velocity+a*t\n",
        "    if new_vel>self.vel_limit:\n",
        "      new_vel = self.vel_limit\n",
        "      print('Alert: Speed limit reached.')\n",
        "    self.velocity = new_vel\n",
        "\n",
        "  def turn(self, degree):\n",
        "    new_or = self.orientation[-1]+degree//360\n",
        "    self.orientation.append(new_or)\n",
        "    self.distance.append(0)\n",
        "  \n",
        "  def gas_consume(self, metres):\n",
        "    cons = metres*self.consumption\n",
        "    if cons>self.l_gas:\n",
        "      cons = self.vel_limit\n",
        "      print('Alert: Run out of gas.')  \n",
        "    self.l_gas -= cons\n",
        "    print(f'Remaining gas: {self.l_gas} L.')\n",
        "    return cons/self.consumption\n",
        "\n",
        "  def drive(self, dist)\n",
        "    dist = self.gas_consume(dist)\n",
        "    self.distance.append(dist)\n",
        "    self.orientation.append(self.orientation[-1])\n",
        "\n",
        "  def turbo(self, seconds):\n",
        "    if self.turbo_secs==0:\n",
        "      print('Alert: Run out of turbo.')\n",
        "    else:\n",
        "      if self.turbo_secs<seconds:\n",
        "        seconds=self.turbo_secs\n",
        "      self.turbo_secs -= seconds\n",
        "      self.velocity *= 2\n",
        "      self.drive(seconds*self.velocity)\n",
        "      self.velocity /= 2\n",
        "      print(f'Remaining turbo activation time: {self.turbo_secs} s.')\n",
        "\n",
        "  def describe_traj(self)\n",
        "    print(f'The vector of traveled distance is: {self.distance}')\n",
        "    print(f'The vector of orientation is; {self.orientation}')\n",
        "\n",
        "  def launch_rocket(self, objective):\n",
        "    self.rocket.shoot(objective)\n",
        "\n",
        "  def launch_pem(self, objective):\n",
        "    self.pem.shoot(objective)\n",
        "\n",
        "\n",
        "class Joker:\n",
        "\n",
        "  def __init__(self):\n",
        "    self.KO = False\n",
        "    self.Weapon = True\n",
        "\n",
        "\n",
        "class Joker_Villain:\n",
        "\n",
        "  def __init__(self):\n",
        "    self.KO = False\n",
        "    self.Weapon = True\n",
        "\n",
        "\n",
        "class Rocket:\n",
        "\n",
        "  def __init__(self, ammunition):\n",
        "    self.ammunition = ammunition\n",
        "\n",
        "  def shoot(self,objective):\n",
        "    if self.ammunition==0:\n",
        "      print('Alert: Run out of batrocket ammo.')\n",
        "    else:\n",
        "      self.ammunition -= 1\n",
        "      objective.KO = True\n",
        "      print(f'Remaining rocket ammo: {self.n_rock}.')\n",
        "\n",
        "\n",
        "class PEM_Pulse:\n",
        "\n",
        "  def __init__(self, ammunition):\n",
        "    self.ammunition = ammunition\n",
        "  \n",
        "  def shoot(self,objective):\n",
        "    if self.ammunition==0:\n",
        "      print('Alert: Run out of PEM pulses.')\n",
        "    else:\n",
        "      self.ammunition -= 1\n",
        "      objective.KO = True\n",
        "      print(f'Remaining PEM pulses: {self.ammunition}.')\n",
        "\n",
        "\n",
        "class Pilot:\n",
        "  def __init__(self, pilot='Batman'):\n",
        "    self.pilot=pilot\n",
        "\n",
        "  def describe_pilot(self):\n",
        "    print(f'Hi Alfred, please confirm who is driving the Batmovil. Ok, the pilot is {self.pilot}')"
      ],
      "execution_count": 1,
      "outputs": [
        {
          "output_type": "error",
          "ename": "SyntaxError",
          "evalue": "ignored",
          "traceback": [
            "\u001b[0;36m  File \u001b[0;32m\"<ipython-input-1-cb86b4aba3ac>\"\u001b[0;36m, line \u001b[0;32m37\u001b[0m\n\u001b[0;31m    def drive(self, dist)\u001b[0m\n\u001b[0m                         ^\u001b[0m\n\u001b[0;31mSyntaxError\u001b[0m\u001b[0;31m:\u001b[0m invalid syntax\n"
          ]
        }
      ]
    },
    {
      "cell_type": "code",
      "metadata": {
        "id": "OaNhG4rlzwiK"
      },
      "source": [
        ""
      ],
      "execution_count": null,
      "outputs": []
    }
  ]
}