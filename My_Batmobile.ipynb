{
  "nbformat": 4,
  "nbformat_minor": 0,
  "metadata": {
    "colab": {
      "name": "Untitled",
      "provenance": [],
      "collapsed_sections": [],
      "authorship_tag": "ABX9TyM4tfz4PIVL98lbVisdzgrs",
      "include_colab_link": true
    },
    "kernelspec": {
      "name": "python3",
      "display_name": "Python 3"
    }
  },
  "cells": [
    {
      "cell_type": "markdown",
      "metadata": {
        "id": "view-in-github",
        "colab_type": "text"
      },
      "source": [
        "<a href=\"https://colab.research.google.com/github/Borja-rg/idal_ia3/blob/main/My_Batmobile.ipynb\" target=\"_parent\"><img src=\"https://colab.research.google.com/assets/colab-badge.svg\" alt=\"Open In Colab\"/></a>"
      ]
    },
    {
      "cell_type": "code",
      "metadata": {
        "id": "C9qoolVGcfrr"
      },
      "source": [
        "class Rocket:\n",
        "  def __init__(self, ammunition):\n",
        "    self.ammunition = ammunition\n",
        "\n",
        "  def shoot(self,objective):\n",
        "    if self.ammunition==0:\n",
        "      print('Alert: Run out of batrocket ammo.')\n",
        "    else:\n",
        "      self.ammunition -= 1\n",
        "      objective.KO = True\n",
        "      print(f'Remaining rocket ammo: {self.n_rock}.')\n",
        "\n",
        "\n",
        "class PEM_Pulse:\n",
        "  def __init__(self, ammunition):\n",
        "    self.ammunition = ammunition\n",
        "  \n",
        "  def shoot(self,objective):\n",
        "    if self.ammunition==0:\n",
        "      print('Alert: Run out of PEM pulses.')\n",
        "    else:\n",
        "      self.ammunition -= 1\n",
        "      objective.KO = True\n",
        "      print(f'Remaining PEM pulses: {self.ammunition}.')\n",
        "\n",
        "\n",
        "class Pilot:\n",
        "  def __init__(self, pilot='Batman'):\n",
        "    self.pilot=pilot\n",
        "\n",
        "  def describe_pilot(self):\n",
        "    print('Hi Alfred, please confirm who is driving the Batmovil.')\n",
        "    print(f'Ok, the pilot is {self.pilot}')\n",
        "\n",
        "\n",
        "class Batmobile:\n",
        "  def __init__(self, pilot=Pilot('Batman'), rocket=Rocket(10), pem=PEM_Pulse(4), l_gas=100.0):\n",
        "    self.pilot = pilot\n",
        "    self.rocket = rocket\n",
        "    self.pem = pem\n",
        "    self.l_gas = l_gas\n",
        "\n",
        "    # Initialitation\n",
        "    self.velocity = 0\n",
        "    self.orientation = [0]\n",
        "    self.distance = [0]\n",
        "\n",
        "    # Car Specs\n",
        "    self.turbo_secs = 20\n",
        "    self.vel_limit = 55 #In m/s -> Around 200 km/h\n",
        "    self.consumption = 6e-4 #In L/m -> Around 60 L/100km\n",
        "\n",
        "  # Movement-related methods: _gas_consume, drive (straight), turn (change of orientation), accelerate, turbo, describe_traj\n",
        "\n",
        "  def _gas_consume(self, metres):\n",
        "    cons = metres*self.consumption\n",
        "    if cons>self.l_gas:\n",
        "      cons = self.vel_limit\n",
        "      print('Alert: Run out of gas.')  \n",
        "    self.l_gas -= cons\n",
        "    print(f'Remaining gas: {self.l_gas} L.')\n",
        "    return cons/self.consumption\n",
        "  \n",
        "  def drive(self, t, a=0):\n",
        "    dist = self.velocity*t+a*t**2\n",
        "    dist = self._gas_consume(dist)\n",
        "    self.distance.append(dist)\n",
        "    self.orientation.append(self.orientation[-1])\n",
        "  \n",
        "  def turn(self, degree):\n",
        "    new_or = self.orientation[-1]+degree//360\n",
        "    self.orientation.append(new_or)\n",
        "    self.distance.append(0)\n",
        "\n",
        "  def accelerate(self, a, t):\n",
        "    new_vel = self.velocity+a*t\n",
        "    if new_vel>self.vel_limit:\n",
        "      t = (self.vel_limit-self.velocity)/a\n",
        "      new_vel = self.vel_limit\n",
        "      print('Alert: Speed limit reached.')\n",
        "    self.drive(t,a)\n",
        "    self.velocity = new_vel\n",
        "\n",
        "  def turbo(self, seconds):\n",
        "    if self.turbo_secs==0:\n",
        "      print('Alert: Run out of turbo.')\n",
        "    else:\n",
        "      if self.turbo_secs<seconds:\n",
        "        seconds=self.turbo_secs\n",
        "      self.turbo_secs -= seconds\n",
        "      self.velocity *= 2\n",
        "      self.drive(seconds)\n",
        "      self.velocity /= 2\n",
        "      print(f'Remaining turbo activation time: {self.turbo_secs} s.')\n",
        "\n",
        "  def describe_traj(self):\n",
        "    print(f'The vector of traveled distance is: {self.distance}')\n",
        "    print(f'The vector of orientation is; {self.orientation}')\n",
        "\n",
        "  # Weapon-related methods: launch_rocket and launch_pem\n",
        "\n",
        "  def launch_rocket(self, objective):\n",
        "    self.rocket.shoot(objective)\n",
        "\n",
        "  def launch_pem(self, objective):\n",
        "    self.pem.shoot(objective)\n",
        "\n",
        "\n",
        "class Joker:\n",
        "  def __init__(self):\n",
        "    self.KO = False\n",
        "    self.Weapon = True\n",
        "\n",
        "\n",
        "class Joker_Villain:\n",
        "  def __init__(self):\n",
        "    self.KO = False\n",
        "    self.Weapon = True\n",
        "\n",
        "\n"
      ],
      "execution_count": 32,
      "outputs": []
    },
    {
      "cell_type": "code",
      "metadata": {
        "id": "OaNhG4rlzwiK",
        "outputId": "738c3410-e70c-446e-cd9f-57ea790cdd88",
        "colab": {
          "base_uri": "https://localhost:8080/",
          "height": 54
        }
      },
      "source": [
        "coche = Batmobile()\n",
        "coche.accelerate(10,1)\n",
        "coche.velocity\n"
      ],
      "execution_count": 33,
      "outputs": [
        {
          "output_type": "stream",
          "text": [
            "Remaining gas: 99.994 L.\n"
          ],
          "name": "stdout"
        },
        {
          "output_type": "execute_result",
          "data": {
            "text/plain": [
              "10"
            ]
          },
          "metadata": {
            "tags": []
          },
          "execution_count": 33
        }
      ]
    },
    {
      "cell_type": "code",
      "metadata": {
        "id": "EsscEJdp37uw",
        "outputId": "e22de7d4-441f-4c13-8a60-a86e10a10ce4",
        "colab": {
          "base_uri": "https://localhost:8080/",
          "height": 54
        }
      },
      "source": [
        "coche.describe_traj()"
      ],
      "execution_count": 35,
      "outputs": [
        {
          "output_type": "stream",
          "text": [
            "The vector of traveled distance is: [0, 10.0]\n",
            "The vector of orientation is; [0, 0]\n"
          ],
          "name": "stdout"
        }
      ]
    },
    {
      "cell_type": "code",
      "metadata": {
        "id": "NDnZZ1QVBLiw",
        "outputId": "de6be3a5-2ea7-4022-85b5-de14a669eff3",
        "colab": {
          "base_uri": "https://localhost:8080/",
          "height": 54
        }
      },
      "source": [
        "coche.turn(90)\n",
        "coche.drive(100)\n",
        "coche.accelerate(20,2)"
      ],
      "execution_count": 36,
      "outputs": [
        {
          "output_type": "stream",
          "text": [
            "Remaining gas: 99.394 L.\n",
            "Remaining gas: 99.334 L.\n"
          ],
          "name": "stdout"
        }
      ]
    },
    {
      "cell_type": "code",
      "metadata": {
        "id": "vNNI-qZsBWre",
        "outputId": "4e033861-4982-405f-998d-0ce776c56939",
        "colab": {
          "base_uri": "https://localhost:8080/",
          "height": 36
        }
      },
      "source": [
        "coche.velocity"
      ],
      "execution_count": 37,
      "outputs": [
        {
          "output_type": "execute_result",
          "data": {
            "text/plain": [
              "50"
            ]
          },
          "metadata": {
            "tags": []
          },
          "execution_count": 37
        }
      ]
    },
    {
      "cell_type": "code",
      "metadata": {
        "id": "65DMNq4eBZ2i",
        "outputId": "6f6ecd56-fab0-4a40-e983-b8386bc4200e",
        "colab": {
          "base_uri": "https://localhost:8080/",
          "height": 54
        }
      },
      "source": [
        "coche.accelerate(10,1)"
      ],
      "execution_count": 38,
      "outputs": [
        {
          "output_type": "stream",
          "text": [
            "Alert: Speed limit reached.\n",
            "Remaining gas: 99.31750000000001 L.\n"
          ],
          "name": "stdout"
        }
      ]
    },
    {
      "cell_type": "code",
      "metadata": {
        "id": "L-5TvoWvBdfM",
        "outputId": "d1600081-9805-466f-9a7a-eb8d770e46c9",
        "colab": {
          "base_uri": "https://localhost:8080/",
          "height": 36
        }
      },
      "source": [
        "coche.velocity"
      ],
      "execution_count": 39,
      "outputs": [
        {
          "output_type": "execute_result",
          "data": {
            "text/plain": [
              "55"
            ]
          },
          "metadata": {
            "tags": []
          },
          "execution_count": 39
        }
      ]
    },
    {
      "cell_type": "code",
      "metadata": {
        "id": "WW4ZUa8dBfsg",
        "outputId": "680acd41-f9b4-430d-bb3b-4f0a8ce088c3",
        "colab": {
          "base_uri": "https://localhost:8080/",
          "height": 54
        }
      },
      "source": [
        "coche.turbo(7)"
      ],
      "execution_count": 40,
      "outputs": [
        {
          "output_type": "stream",
          "text": [
            "Remaining gas: 98.8555 L.\n",
            "Remaining turbo activation time: 13 s.\n"
          ],
          "name": "stdout"
        }
      ]
    },
    {
      "cell_type": "code",
      "metadata": {
        "id": "fAPiDD1YBkLf",
        "outputId": "a4e32405-93d6-4c90-f33a-46ae8d0b2af8",
        "colab": {
          "base_uri": "https://localhost:8080/",
          "height": 54
        }
      },
      "source": [
        "coche.describe_traj()"
      ],
      "execution_count": 42,
      "outputs": [
        {
          "output_type": "stream",
          "text": [
            "The vector of traveled distance is: [0, 10.0, 0, 1000.0, 100.0, 27.499999999999996, 770.0]\n",
            "The vector of orientation is; [0, 0, 0, 0, 0, 0, 0]\n"
          ],
          "name": "stdout"
        }
      ]
    },
    {
      "cell_type": "code",
      "metadata": {
        "id": "AjC97QNhBoUJ"
      },
      "source": [
        ""
      ],
      "execution_count": null,
      "outputs": []
    }
  ]
}